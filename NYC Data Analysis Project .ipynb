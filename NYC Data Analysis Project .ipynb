{
 "cells": [
  {
   "cell_type": "code",
   "execution_count": 2,
   "metadata": {},
   "outputs": [],
   "source": [
    "import pandas as pd\n",
    "import seaborn as sns\n",
    "from matplotlib import pyplot\n",
    "\n",
    "temperature_df = pd.read_csv(r'C:\\Users\\AGL\\Downloads\\historical-hourly-weather-data\\temperature.csv')\n",
    "\n"
   ]
  },
  {
   "cell_type": "code",
   "execution_count": 3,
   "metadata": {},
   "outputs": [
    {
     "name": "stdout",
     "output_type": "stream",
     "text": [
      "              datetime   Vancouver    Portland  San Francisco     Seattle  \\\n",
      "0  2012-10-01 12:00:00         NaN         NaN            NaN         NaN   \n",
      "1  2012-10-01 13:00:00  284.630000  282.080000     289.480000  281.800000   \n",
      "2  2012-10-01 14:00:00  284.629041  282.083252     289.474993  281.797217   \n",
      "3  2012-10-01 15:00:00  284.626998  282.091866     289.460618  281.789833   \n",
      "4  2012-10-01 16:00:00  284.624955  282.100481     289.446243  281.782449   \n",
      "\n",
      "   Los Angeles   San Diego   Las Vegas     Phoenix  Albuquerque  ...  \\\n",
      "0          NaN         NaN         NaN         NaN          NaN  ...   \n",
      "1   291.870000  291.530000  293.410000  296.600000   285.120000  ...   \n",
      "2   291.868186  291.533501  293.403141  296.608509   285.154558  ...   \n",
      "3   291.862844  291.543355  293.392177  296.631487   285.233952  ...   \n",
      "4   291.857503  291.553209  293.381213  296.654466   285.313345  ...   \n",
      "\n",
      "   Philadelphia    New York    Montreal      Boston   Beersheba  \\\n",
      "0           NaN         NaN         NaN         NaN         NaN   \n",
      "1    285.630000  288.220000  285.830000  287.170000  307.590000   \n",
      "2    285.663208  288.247676  285.834650  287.186092  307.590000   \n",
      "3    285.756824  288.326940  285.847790  287.231672  307.391513   \n",
      "4    285.850440  288.406203  285.860929  287.277251  307.145200   \n",
      "\n",
      "   Tel Aviv District       Eilat  Haifa  Nahariyya  Jerusalem  \n",
      "0                NaN  309.100000    NaN        NaN        NaN  \n",
      "1         305.470000  310.580000  304.4      304.4      303.5  \n",
      "2         304.310000  310.495769  304.4      304.4      303.5  \n",
      "3         304.281841  310.411538  304.4      304.4      303.5  \n",
      "4         304.238015  310.327308  304.4      304.4      303.5  \n",
      "\n",
      "[5 rows x 37 columns]\n"
     ]
    }
   ],
   "source": [
    "print(temperature_df.head(5))\n"
   ]
  },
  {
   "cell_type": "code",
   "execution_count": 4,
   "metadata": {},
   "outputs": [
    {
     "name": "stdout",
     "output_type": "stream",
     "text": [
      "                  datetime  Vancouver  Portland  San Francisco  Seattle  \\\n",
      "45248  2017-11-29 20:00:00        NaN    282.00            NaN   280.82   \n",
      "45249  2017-11-29 21:00:00        NaN    282.89            NaN   281.65   \n",
      "45250  2017-11-29 22:00:00        NaN    283.39            NaN   282.75   \n",
      "45251  2017-11-29 23:00:00        NaN    283.02            NaN   282.96   \n",
      "45252  2017-11-30 00:00:00        NaN    282.28            NaN   283.04   \n",
      "\n",
      "       Los Angeles  San Diego  Las Vegas  Phoenix  Albuquerque  ...  \\\n",
      "45248       293.55     292.15     289.54   294.71       285.72  ...   \n",
      "45249       295.68     292.74     290.61   295.59       286.45  ...   \n",
      "45250       295.96     292.58     291.34   296.25       286.44  ...   \n",
      "45251       295.65     292.61     292.15   297.15       286.14  ...   \n",
      "45252       294.93     291.40     291.64   297.15       284.70  ...   \n",
      "\n",
      "       Philadelphia  New York  Montreal  Boston  Beersheba  Tel Aviv District  \\\n",
      "45248        290.24       NaN    275.13  288.08        NaN                NaN   \n",
      "45249        289.24       NaN    274.13  286.02        NaN                NaN   \n",
      "45250        286.78       NaN    273.48  283.94        NaN                NaN   \n",
      "45251        284.57       NaN    272.48  282.17        NaN                NaN   \n",
      "45252        283.42       NaN    271.80  280.65        NaN                NaN   \n",
      "\n",
      "       Eilat  Haifa  Nahariyya  Jerusalem  \n",
      "45248    NaN    NaN        NaN        NaN  \n",
      "45249    NaN    NaN        NaN        NaN  \n",
      "45250    NaN    NaN        NaN        NaN  \n",
      "45251    NaN    NaN        NaN        NaN  \n",
      "45252    NaN    NaN        NaN        NaN  \n",
      "\n",
      "[5 rows x 37 columns]\n"
     ]
    }
   ],
   "source": [
    "print(temperature_df.tail(5))\n"
   ]
  },
  {
   "cell_type": "code",
   "execution_count": 5,
   "metadata": {},
   "outputs": [
    {
     "data": {
      "text/plain": [
       "Index(['datetime', 'Vancouver', 'Portland', 'San Francisco', 'Seattle',\n",
       "       'Los Angeles', 'San Diego', 'Las Vegas', 'Phoenix', 'Albuquerque',\n",
       "       'Denver', 'San Antonio', 'Dallas', 'Houston', 'Kansas City',\n",
       "       'Minneapolis', 'Saint Louis', 'Chicago', 'Nashville', 'Indianapolis',\n",
       "       'Atlanta', 'Detroit', 'Jacksonville', 'Charlotte', 'Miami',\n",
       "       'Pittsburgh', 'Toronto', 'Philadelphia', 'New York', 'Montreal',\n",
       "       'Boston', 'Beersheba', 'Tel Aviv District', 'Eilat', 'Haifa',\n",
       "       'Nahariyya', 'Jerusalem'],\n",
       "      dtype='object')"
      ]
     },
     "execution_count": 5,
     "metadata": {},
     "output_type": "execute_result"
    }
   ],
   "source": [
    "temperature_df.columns"
   ]
  },
  {
   "cell_type": "code",
   "execution_count": null,
   "metadata": {},
   "outputs": [],
   "source": [
    "# This tells us a few things:\n",
    "\n",
    "# The extent of this data set begins on October 1st, 2012 and ends on on November 29th, 2017.\n",
    "# Not all cities have sufficient data which begins and ends on these dates.\n",
    "# Data has been taken at 1-hour intervals, 24 times per day.\n",
    "# Temperatures are in Kelvin: the world's most useless unit of measurement"
   ]
  },
  {
   "cell_type": "code",
   "execution_count": null,
   "metadata": {},
   "outputs": [],
   "source": [
    "# Remove Extraneous Data\n",
    "# 24 readings per day is a lot. Creating charts can take a significant amount of system resources (and time), which makes 24 separate temperatures every day ludicrous. Let's save ourselves 23/24ths of this headache by taking our recorded temperatures down to one reading per day.\n",
    "\n",
    "# We'll modify our DataFrame to only include one out of every 24 rows:"
   ]
  },
  {
   "cell_type": "code",
   "execution_count": 12,
   "metadata": {},
   "outputs": [
    {
     "data": {
      "text/plain": [
       "(1886, 37)"
      ]
     },
     "execution_count": 12,
     "metadata": {},
     "output_type": "execute_result"
    }
   ],
   "source": [
    "modified_df = temperature_df.iloc[::24]\n",
    "modified_df.shape"
   ]
  },
  {
   "cell_type": "code",
   "execution_count": 16,
   "metadata": {},
   "outputs": [
    {
     "data": {
      "text/plain": [
       "datetime               0\n",
       "Vancouver            795\n",
       "Portland               1\n",
       "San Francisco        793\n",
       "Seattle                3\n",
       "Los Angeles            3\n",
       "San Diego              1\n",
       "Las Vegas              1\n",
       "Phoenix                3\n",
       "Albuquerque            1\n",
       "Denver                 1\n",
       "San Antonio            1\n",
       "Dallas                 4\n",
       "Houston                3\n",
       "Kansas City            1\n",
       "Minneapolis           13\n",
       "Saint Louis            1\n",
       "Chicago                3\n",
       "Nashville              2\n",
       "Indianapolis           7\n",
       "Atlanta                6\n",
       "Detroit                1\n",
       "Jacksonville           1\n",
       "Charlotte              3\n",
       "Miami                805\n",
       "Pittsburgh             3\n",
       "Toronto                1\n",
       "Philadelphia           3\n",
       "New York             793\n",
       "Montreal               3\n",
       "Boston                 3\n",
       "Beersheba            798\n",
       "Tel Aviv District    793\n",
       "Eilat                792\n",
       "Haifa                798\n",
       "Nahariyya            797\n",
       "Jerusalem            793\n",
       "dtype: int64"
      ]
     },
     "execution_count": 16,
     "metadata": {},
     "output_type": "execute_result"
    }
   ],
   "source": [
    "temperature_df.isnull().sum()"
   ]
  },
  {
   "cell_type": "code",
   "execution_count": 17,
   "metadata": {},
   "outputs": [
    {
     "data": {
      "text/plain": [
       "datetime               0\n",
       "Vancouver            795\n",
       "Portland               1\n",
       "San Francisco        793\n",
       "Seattle                3\n",
       "Los Angeles            3\n",
       "San Diego              1\n",
       "Las Vegas              1\n",
       "Phoenix                3\n",
       "Albuquerque            1\n",
       "Denver                 1\n",
       "San Antonio            1\n",
       "Dallas                 4\n",
       "Houston                3\n",
       "Kansas City            1\n",
       "Minneapolis           13\n",
       "Saint Louis            1\n",
       "Chicago                3\n",
       "Nashville              2\n",
       "Indianapolis           7\n",
       "Atlanta                6\n",
       "Detroit                1\n",
       "Jacksonville           1\n",
       "Charlotte              3\n",
       "Miami                805\n",
       "Pittsburgh             3\n",
       "Toronto                1\n",
       "Philadelphia           3\n",
       "New York             793\n",
       "Montreal               3\n",
       "Boston                 3\n",
       "Beersheba            798\n",
       "Tel Aviv District    793\n",
       "Eilat                792\n",
       "Haifa                798\n",
       "Nahariyya            797\n",
       "Jerusalem            793\n",
       "dtype: int64"
      ]
     },
     "execution_count": 17,
     "metadata": {},
     "output_type": "execute_result"
    }
   ],
   "source": [
    "temperature_df.isna().sum()"
   ]
  },
  {
   "cell_type": "code",
   "execution_count": 18,
   "metadata": {},
   "outputs": [
    {
     "name": "stdout",
     "output_type": "stream",
     "text": [
      "                datetime    New York\n",
      "24   2012-10-02 12:00:00  289.991473\n",
      "48   2012-10-03 12:00:00  290.370000\n",
      "72   2012-10-04 12:00:00  290.840000\n",
      "96   2012-10-05 12:00:00  293.180000\n",
      "120  2012-10-06 12:00:00  288.240000\n",
      "                  datetime  New York\n",
      "44352  2017-10-23 12:00:00    289.07\n",
      "44376  2017-10-24 12:00:00    294.23\n",
      "44400  2017-10-25 12:00:00    286.15\n",
      "44424  2017-10-26 12:00:00    284.31\n",
      "44448  2017-10-27 12:00:00    278.44\n"
     ]
    }
   ],
   "source": [
    "temperature_df = pd.read_csv(r'C:\\Users\\AGL\\Downloads\\historical-hourly-weather-data\\temperature.csv')\n",
    "nyc_df = temperature_df[['datetime','New York']]\n",
    "nyc_df = nyc_df.iloc[::24]\n",
    "nyc_df.dropna(how='any', inplace=True)\n",
    "\n",
    "print(nyc_df.head(5))\n",
    "print(nyc_df.tail(5))"
   ]
  },
  {
   "cell_type": "code",
   "execution_count": 19,
   "metadata": {},
   "outputs": [
    {
     "data": {
      "text/plain": [
       "datetime    0\n",
       "New York    0\n",
       "dtype: int64"
      ]
     },
     "execution_count": 19,
     "metadata": {},
     "output_type": "execute_result"
    }
   ],
   "source": [
    "nyc_df.isna().sum()"
   ]
  },
  {
   "cell_type": "code",
   "execution_count": null,
   "metadata": {},
   "outputs": [],
   "source": [
    "# Fixing Our Temperatures\n",
    "# We've got to do something about this Kelvin situation. The last time I measured anything in degrees Kelvin was while monitoring my reactor heat in Mech Warrior 2. Don't try and find that game, it's a relic from the 90's.\n",
    "\n",
    "# formula for converting Kelvin to Fahrenheit:\n",
    "# formula (x − 273.15) × 9/5 + 32"
   ]
  },
  {
   "cell_type": "code",
   "execution_count": 45,
   "metadata": {},
   "outputs": [],
   "source": [
    "# formula (x − 273.15) × 9/5 + 32\n",
    "# nyc_df[\"new data\"]=nyc_df[\"new data\"].apply(lambda x: (x-273.15) * 9/5 + 32)\n",
    "# nyc_df"
   ]
  },
  {
   "cell_type": "code",
   "execution_count": 21,
   "metadata": {},
   "outputs": [],
   "source": [
    "nyc_df[\"temperature\"]=nyc_df[\"New York\"].apply(lambda x: (x-273.15) * 9/5 + 32)"
   ]
  },
  {
   "cell_type": "code",
   "execution_count": 22,
   "metadata": {},
   "outputs": [
    {
     "data": {
      "text/html": [
       "<div>\n",
       "<style scoped>\n",
       "    .dataframe tbody tr th:only-of-type {\n",
       "        vertical-align: middle;\n",
       "    }\n",
       "\n",
       "    .dataframe tbody tr th {\n",
       "        vertical-align: top;\n",
       "    }\n",
       "\n",
       "    .dataframe thead th {\n",
       "        text-align: right;\n",
       "    }\n",
       "</style>\n",
       "<table border=\"1\" class=\"dataframe\">\n",
       "  <thead>\n",
       "    <tr style=\"text-align: right;\">\n",
       "      <th></th>\n",
       "      <th>datetime</th>\n",
       "      <th>New York</th>\n",
       "      <th>temperature</th>\n",
       "    </tr>\n",
       "  </thead>\n",
       "  <tbody>\n",
       "    <tr>\n",
       "      <th>24</th>\n",
       "      <td>2012-10-02 12:00:00</td>\n",
       "      <td>289.991473</td>\n",
       "      <td>62.314651</td>\n",
       "    </tr>\n",
       "    <tr>\n",
       "      <th>48</th>\n",
       "      <td>2012-10-03 12:00:00</td>\n",
       "      <td>290.370000</td>\n",
       "      <td>62.996000</td>\n",
       "    </tr>\n",
       "    <tr>\n",
       "      <th>72</th>\n",
       "      <td>2012-10-04 12:00:00</td>\n",
       "      <td>290.840000</td>\n",
       "      <td>63.842000</td>\n",
       "    </tr>\n",
       "    <tr>\n",
       "      <th>96</th>\n",
       "      <td>2012-10-05 12:00:00</td>\n",
       "      <td>293.180000</td>\n",
       "      <td>68.054000</td>\n",
       "    </tr>\n",
       "    <tr>\n",
       "      <th>120</th>\n",
       "      <td>2012-10-06 12:00:00</td>\n",
       "      <td>288.240000</td>\n",
       "      <td>59.162000</td>\n",
       "    </tr>\n",
       "    <tr>\n",
       "      <th>144</th>\n",
       "      <td>2012-10-07 12:00:00</td>\n",
       "      <td>289.640000</td>\n",
       "      <td>61.682000</td>\n",
       "    </tr>\n",
       "    <tr>\n",
       "      <th>168</th>\n",
       "      <td>2012-10-08 12:00:00</td>\n",
       "      <td>282.870000</td>\n",
       "      <td>49.496000</td>\n",
       "    </tr>\n",
       "    <tr>\n",
       "      <th>192</th>\n",
       "      <td>2012-10-09 12:00:00</td>\n",
       "      <td>280.400000</td>\n",
       "      <td>45.050000</td>\n",
       "    </tr>\n",
       "    <tr>\n",
       "      <th>216</th>\n",
       "      <td>2012-10-10 12:00:00</td>\n",
       "      <td>283.900000</td>\n",
       "      <td>51.350000</td>\n",
       "    </tr>\n",
       "    <tr>\n",
       "      <th>240</th>\n",
       "      <td>2012-10-11 12:00:00</td>\n",
       "      <td>285.540000</td>\n",
       "      <td>54.302000</td>\n",
       "    </tr>\n",
       "    <tr>\n",
       "      <th>264</th>\n",
       "      <td>2012-10-12 12:00:00</td>\n",
       "      <td>282.030000</td>\n",
       "      <td>47.984000</td>\n",
       "    </tr>\n",
       "    <tr>\n",
       "      <th>288</th>\n",
       "      <td>2012-10-13 12:00:00</td>\n",
       "      <td>280.350000</td>\n",
       "      <td>44.960000</td>\n",
       "    </tr>\n",
       "    <tr>\n",
       "      <th>312</th>\n",
       "      <td>2012-10-14 12:00:00</td>\n",
       "      <td>275.230000</td>\n",
       "      <td>35.744000</td>\n",
       "    </tr>\n",
       "    <tr>\n",
       "      <th>336</th>\n",
       "      <td>2012-10-15 12:00:00</td>\n",
       "      <td>285.380000</td>\n",
       "      <td>54.014000</td>\n",
       "    </tr>\n",
       "    <tr>\n",
       "      <th>360</th>\n",
       "      <td>2012-10-16 12:00:00</td>\n",
       "      <td>289.940000</td>\n",
       "      <td>62.222000</td>\n",
       "    </tr>\n",
       "    <tr>\n",
       "      <th>384</th>\n",
       "      <td>2012-10-17 12:00:00</td>\n",
       "      <td>284.080000</td>\n",
       "      <td>51.674000</td>\n",
       "    </tr>\n",
       "    <tr>\n",
       "      <th>408</th>\n",
       "      <td>2012-10-18 12:00:00</td>\n",
       "      <td>279.320000</td>\n",
       "      <td>43.106000</td>\n",
       "    </tr>\n",
       "    <tr>\n",
       "      <th>432</th>\n",
       "      <td>2012-10-19 12:00:00</td>\n",
       "      <td>279.670000</td>\n",
       "      <td>43.736000</td>\n",
       "    </tr>\n",
       "    <tr>\n",
       "      <th>456</th>\n",
       "      <td>2012-10-20 12:00:00</td>\n",
       "      <td>290.940000</td>\n",
       "      <td>64.022000</td>\n",
       "    </tr>\n",
       "    <tr>\n",
       "      <th>480</th>\n",
       "      <td>2012-10-21 12:00:00</td>\n",
       "      <td>287.772500</td>\n",
       "      <td>58.320500</td>\n",
       "    </tr>\n",
       "    <tr>\n",
       "      <th>504</th>\n",
       "      <td>2012-10-22 12:00:00</td>\n",
       "      <td>283.047500</td>\n",
       "      <td>49.815500</td>\n",
       "    </tr>\n",
       "    <tr>\n",
       "      <th>528</th>\n",
       "      <td>2012-10-23 12:00:00</td>\n",
       "      <td>283.270000</td>\n",
       "      <td>50.216000</td>\n",
       "    </tr>\n",
       "    <tr>\n",
       "      <th>552</th>\n",
       "      <td>2012-10-24 12:00:00</td>\n",
       "      <td>283.780000</td>\n",
       "      <td>51.134000</td>\n",
       "    </tr>\n",
       "    <tr>\n",
       "      <th>576</th>\n",
       "      <td>2012-10-25 12:00:00</td>\n",
       "      <td>286.410000</td>\n",
       "      <td>55.868000</td>\n",
       "    </tr>\n",
       "    <tr>\n",
       "      <th>600</th>\n",
       "      <td>2012-10-26 12:00:00</td>\n",
       "      <td>286.600000</td>\n",
       "      <td>56.210000</td>\n",
       "    </tr>\n",
       "    <tr>\n",
       "      <th>624</th>\n",
       "      <td>2012-10-27 12:00:00</td>\n",
       "      <td>287.770000</td>\n",
       "      <td>58.316000</td>\n",
       "    </tr>\n",
       "    <tr>\n",
       "      <th>648</th>\n",
       "      <td>2012-10-28 12:00:00</td>\n",
       "      <td>289.220000</td>\n",
       "      <td>60.926000</td>\n",
       "    </tr>\n",
       "    <tr>\n",
       "      <th>672</th>\n",
       "      <td>2012-10-29 12:00:00</td>\n",
       "      <td>286.840000</td>\n",
       "      <td>56.642000</td>\n",
       "    </tr>\n",
       "    <tr>\n",
       "      <th>696</th>\n",
       "      <td>2012-10-30 12:00:00</td>\n",
       "      <td>285.610000</td>\n",
       "      <td>54.428000</td>\n",
       "    </tr>\n",
       "    <tr>\n",
       "      <th>720</th>\n",
       "      <td>2012-10-31 12:00:00</td>\n",
       "      <td>285.790000</td>\n",
       "      <td>54.752000</td>\n",
       "    </tr>\n",
       "    <tr>\n",
       "      <th>...</th>\n",
       "      <td>...</td>\n",
       "      <td>...</td>\n",
       "      <td>...</td>\n",
       "    </tr>\n",
       "    <tr>\n",
       "      <th>43752</th>\n",
       "      <td>2017-09-28 12:00:00</td>\n",
       "      <td>295.060000</td>\n",
       "      <td>71.438000</td>\n",
       "    </tr>\n",
       "    <tr>\n",
       "      <th>43776</th>\n",
       "      <td>2017-09-29 12:00:00</td>\n",
       "      <td>285.140000</td>\n",
       "      <td>53.582000</td>\n",
       "    </tr>\n",
       "    <tr>\n",
       "      <th>43800</th>\n",
       "      <td>2017-09-30 12:00:00</td>\n",
       "      <td>285.980000</td>\n",
       "      <td>55.094000</td>\n",
       "    </tr>\n",
       "    <tr>\n",
       "      <th>43824</th>\n",
       "      <td>2017-10-01 12:00:00</td>\n",
       "      <td>283.690000</td>\n",
       "      <td>50.972000</td>\n",
       "    </tr>\n",
       "    <tr>\n",
       "      <th>43848</th>\n",
       "      <td>2017-10-02 12:00:00</td>\n",
       "      <td>283.140000</td>\n",
       "      <td>49.982000</td>\n",
       "    </tr>\n",
       "    <tr>\n",
       "      <th>43872</th>\n",
       "      <td>2017-10-03 12:00:00</td>\n",
       "      <td>284.370000</td>\n",
       "      <td>52.196000</td>\n",
       "    </tr>\n",
       "    <tr>\n",
       "      <th>43896</th>\n",
       "      <td>2017-10-04 12:00:00</td>\n",
       "      <td>284.290000</td>\n",
       "      <td>52.052000</td>\n",
       "    </tr>\n",
       "    <tr>\n",
       "      <th>43920</th>\n",
       "      <td>2017-10-05 12:00:00</td>\n",
       "      <td>290.560000</td>\n",
       "      <td>63.338000</td>\n",
       "    </tr>\n",
       "    <tr>\n",
       "      <th>43944</th>\n",
       "      <td>2017-10-06 12:00:00</td>\n",
       "      <td>291.990000</td>\n",
       "      <td>65.912000</td>\n",
       "    </tr>\n",
       "    <tr>\n",
       "      <th>43968</th>\n",
       "      <td>2017-10-07 12:00:00</td>\n",
       "      <td>291.530000</td>\n",
       "      <td>65.084000</td>\n",
       "    </tr>\n",
       "    <tr>\n",
       "      <th>43992</th>\n",
       "      <td>2017-10-08 12:00:00</td>\n",
       "      <td>295.990000</td>\n",
       "      <td>73.112000</td>\n",
       "    </tr>\n",
       "    <tr>\n",
       "      <th>44016</th>\n",
       "      <td>2017-10-09 12:00:00</td>\n",
       "      <td>295.730000</td>\n",
       "      <td>72.644000</td>\n",
       "    </tr>\n",
       "    <tr>\n",
       "      <th>44040</th>\n",
       "      <td>2017-10-10 12:00:00</td>\n",
       "      <td>292.370000</td>\n",
       "      <td>66.596000</td>\n",
       "    </tr>\n",
       "    <tr>\n",
       "      <th>44064</th>\n",
       "      <td>2017-10-11 12:00:00</td>\n",
       "      <td>290.760000</td>\n",
       "      <td>63.698000</td>\n",
       "    </tr>\n",
       "    <tr>\n",
       "      <th>44088</th>\n",
       "      <td>2017-10-12 12:00:00</td>\n",
       "      <td>286.690000</td>\n",
       "      <td>56.372000</td>\n",
       "    </tr>\n",
       "    <tr>\n",
       "      <th>44112</th>\n",
       "      <td>2017-10-13 12:00:00</td>\n",
       "      <td>284.980000</td>\n",
       "      <td>53.294000</td>\n",
       "    </tr>\n",
       "    <tr>\n",
       "      <th>44136</th>\n",
       "      <td>2017-10-14 12:00:00</td>\n",
       "      <td>289.820000</td>\n",
       "      <td>62.006000</td>\n",
       "    </tr>\n",
       "    <tr>\n",
       "      <th>44160</th>\n",
       "      <td>2017-10-15 12:00:00</td>\n",
       "      <td>291.560000</td>\n",
       "      <td>65.138000</td>\n",
       "    </tr>\n",
       "    <tr>\n",
       "      <th>44184</th>\n",
       "      <td>2017-10-16 12:00:00</td>\n",
       "      <td>287.820000</td>\n",
       "      <td>58.406000</td>\n",
       "    </tr>\n",
       "    <tr>\n",
       "      <th>44208</th>\n",
       "      <td>2017-10-17 12:00:00</td>\n",
       "      <td>277.220000</td>\n",
       "      <td>39.326000</td>\n",
       "    </tr>\n",
       "    <tr>\n",
       "      <th>44232</th>\n",
       "      <td>2017-10-18 12:00:00</td>\n",
       "      <td>280.680000</td>\n",
       "      <td>45.554000</td>\n",
       "    </tr>\n",
       "    <tr>\n",
       "      <th>44256</th>\n",
       "      <td>2017-10-19 12:00:00</td>\n",
       "      <td>282.370000</td>\n",
       "      <td>48.596000</td>\n",
       "    </tr>\n",
       "    <tr>\n",
       "      <th>44280</th>\n",
       "      <td>2017-10-20 12:00:00</td>\n",
       "      <td>285.800000</td>\n",
       "      <td>54.770000</td>\n",
       "    </tr>\n",
       "    <tr>\n",
       "      <th>44304</th>\n",
       "      <td>2017-10-21 12:00:00</td>\n",
       "      <td>282.750000</td>\n",
       "      <td>49.280000</td>\n",
       "    </tr>\n",
       "    <tr>\n",
       "      <th>44328</th>\n",
       "      <td>2017-10-22 12:00:00</td>\n",
       "      <td>282.980000</td>\n",
       "      <td>49.694000</td>\n",
       "    </tr>\n",
       "    <tr>\n",
       "      <th>44352</th>\n",
       "      <td>2017-10-23 12:00:00</td>\n",
       "      <td>289.070000</td>\n",
       "      <td>60.656000</td>\n",
       "    </tr>\n",
       "    <tr>\n",
       "      <th>44376</th>\n",
       "      <td>2017-10-24 12:00:00</td>\n",
       "      <td>294.230000</td>\n",
       "      <td>69.944000</td>\n",
       "    </tr>\n",
       "    <tr>\n",
       "      <th>44400</th>\n",
       "      <td>2017-10-25 12:00:00</td>\n",
       "      <td>286.150000</td>\n",
       "      <td>55.400000</td>\n",
       "    </tr>\n",
       "    <tr>\n",
       "      <th>44424</th>\n",
       "      <td>2017-10-26 12:00:00</td>\n",
       "      <td>284.310000</td>\n",
       "      <td>52.088000</td>\n",
       "    </tr>\n",
       "    <tr>\n",
       "      <th>44448</th>\n",
       "      <td>2017-10-27 12:00:00</td>\n",
       "      <td>278.440000</td>\n",
       "      <td>41.522000</td>\n",
       "    </tr>\n",
       "  </tbody>\n",
       "</table>\n",
       "<p>1852 rows × 3 columns</p>\n",
       "</div>"
      ],
      "text/plain": [
       "                  datetime    New York  temperature\n",
       "24     2012-10-02 12:00:00  289.991473    62.314651\n",
       "48     2012-10-03 12:00:00  290.370000    62.996000\n",
       "72     2012-10-04 12:00:00  290.840000    63.842000\n",
       "96     2012-10-05 12:00:00  293.180000    68.054000\n",
       "120    2012-10-06 12:00:00  288.240000    59.162000\n",
       "144    2012-10-07 12:00:00  289.640000    61.682000\n",
       "168    2012-10-08 12:00:00  282.870000    49.496000\n",
       "192    2012-10-09 12:00:00  280.400000    45.050000\n",
       "216    2012-10-10 12:00:00  283.900000    51.350000\n",
       "240    2012-10-11 12:00:00  285.540000    54.302000\n",
       "264    2012-10-12 12:00:00  282.030000    47.984000\n",
       "288    2012-10-13 12:00:00  280.350000    44.960000\n",
       "312    2012-10-14 12:00:00  275.230000    35.744000\n",
       "336    2012-10-15 12:00:00  285.380000    54.014000\n",
       "360    2012-10-16 12:00:00  289.940000    62.222000\n",
       "384    2012-10-17 12:00:00  284.080000    51.674000\n",
       "408    2012-10-18 12:00:00  279.320000    43.106000\n",
       "432    2012-10-19 12:00:00  279.670000    43.736000\n",
       "456    2012-10-20 12:00:00  290.940000    64.022000\n",
       "480    2012-10-21 12:00:00  287.772500    58.320500\n",
       "504    2012-10-22 12:00:00  283.047500    49.815500\n",
       "528    2012-10-23 12:00:00  283.270000    50.216000\n",
       "552    2012-10-24 12:00:00  283.780000    51.134000\n",
       "576    2012-10-25 12:00:00  286.410000    55.868000\n",
       "600    2012-10-26 12:00:00  286.600000    56.210000\n",
       "624    2012-10-27 12:00:00  287.770000    58.316000\n",
       "648    2012-10-28 12:00:00  289.220000    60.926000\n",
       "672    2012-10-29 12:00:00  286.840000    56.642000\n",
       "696    2012-10-30 12:00:00  285.610000    54.428000\n",
       "720    2012-10-31 12:00:00  285.790000    54.752000\n",
       "...                    ...         ...          ...\n",
       "43752  2017-09-28 12:00:00  295.060000    71.438000\n",
       "43776  2017-09-29 12:00:00  285.140000    53.582000\n",
       "43800  2017-09-30 12:00:00  285.980000    55.094000\n",
       "43824  2017-10-01 12:00:00  283.690000    50.972000\n",
       "43848  2017-10-02 12:00:00  283.140000    49.982000\n",
       "43872  2017-10-03 12:00:00  284.370000    52.196000\n",
       "43896  2017-10-04 12:00:00  284.290000    52.052000\n",
       "43920  2017-10-05 12:00:00  290.560000    63.338000\n",
       "43944  2017-10-06 12:00:00  291.990000    65.912000\n",
       "43968  2017-10-07 12:00:00  291.530000    65.084000\n",
       "43992  2017-10-08 12:00:00  295.990000    73.112000\n",
       "44016  2017-10-09 12:00:00  295.730000    72.644000\n",
       "44040  2017-10-10 12:00:00  292.370000    66.596000\n",
       "44064  2017-10-11 12:00:00  290.760000    63.698000\n",
       "44088  2017-10-12 12:00:00  286.690000    56.372000\n",
       "44112  2017-10-13 12:00:00  284.980000    53.294000\n",
       "44136  2017-10-14 12:00:00  289.820000    62.006000\n",
       "44160  2017-10-15 12:00:00  291.560000    65.138000\n",
       "44184  2017-10-16 12:00:00  287.820000    58.406000\n",
       "44208  2017-10-17 12:00:00  277.220000    39.326000\n",
       "44232  2017-10-18 12:00:00  280.680000    45.554000\n",
       "44256  2017-10-19 12:00:00  282.370000    48.596000\n",
       "44280  2017-10-20 12:00:00  285.800000    54.770000\n",
       "44304  2017-10-21 12:00:00  282.750000    49.280000\n",
       "44328  2017-10-22 12:00:00  282.980000    49.694000\n",
       "44352  2017-10-23 12:00:00  289.070000    60.656000\n",
       "44376  2017-10-24 12:00:00  294.230000    69.944000\n",
       "44400  2017-10-25 12:00:00  286.150000    55.400000\n",
       "44424  2017-10-26 12:00:00  284.310000    52.088000\n",
       "44448  2017-10-27 12:00:00  278.440000    41.522000\n",
       "\n",
       "[1852 rows x 3 columns]"
      ]
     },
     "execution_count": 22,
     "metadata": {},
     "output_type": "execute_result"
    }
   ],
   "source": [
    "nyc_df"
   ]
  },
  {
   "cell_type": "code",
   "execution_count": 23,
   "metadata": {},
   "outputs": [
    {
     "data": {
      "text/plain": [
       "Index(['datetime', 'New York', 'temperature'], dtype='object')"
      ]
     },
     "execution_count": 23,
     "metadata": {},
     "output_type": "execute_result"
    }
   ],
   "source": [
    "nyc_df.columns\n",
    "# temperature_df = pd.read_csv(r'C:\\Users\\AGL\\Downloads\\historical-hourly-weather-data\\temperature.csv')\n"
   ]
  },
  {
   "cell_type": "code",
   "execution_count": 24,
   "metadata": {},
   "outputs": [
    {
     "name": "stdout",
     "output_type": "stream",
     "text": [
      "<class 'pandas.core.frame.DataFrame'>\n",
      "Int64Index: 1852 entries, 24 to 44448\n",
      "Data columns (total 3 columns):\n",
      "datetime       1852 non-null object\n",
      "New York       1852 non-null float64\n",
      "temperature    1852 non-null float64\n",
      "dtypes: float64(2), object(1)\n",
      "memory usage: 57.9+ KB\n"
     ]
    }
   ],
   "source": [
    "\n",
    "# nyc_df[\"temperature\"]=nyc_df[\"temperature\"].apply(lambda x: (x-273.15) * 9/5 + 32)\n",
    "nyc_df.info()"
   ]
  },
  {
   "cell_type": "code",
   "execution_count": 25,
   "metadata": {},
   "outputs": [],
   "source": [
    "nyc_df['date'] = pd.to_datetime(nyc_df['datetime'])"
   ]
  },
  {
   "cell_type": "code",
   "execution_count": 28,
   "metadata": {},
   "outputs": [
    {
     "name": "stdout",
     "output_type": "stream",
     "text": [
      "<class 'pandas.core.frame.DataFrame'>\n",
      "Int64Index: 1852 entries, 24 to 44448\n",
      "Data columns (total 4 columns):\n",
      "datetime       1852 non-null object\n",
      "New York       1852 non-null float64\n",
      "temperature    1852 non-null float64\n",
      "date           1852 non-null datetime64[ns]\n",
      "dtypes: datetime64[ns](1), float64(2), object(1)\n",
      "memory usage: 72.3+ KB\n"
     ]
    }
   ],
   "source": [
    "nyc_df.info()"
   ]
  },
  {
   "cell_type": "code",
   "execution_count": 29,
   "metadata": {},
   "outputs": [],
   "source": [
    "nyc_df['year'] = nyc_df['date'].dt.year"
   ]
  },
  {
   "cell_type": "code",
   "execution_count": 30,
   "metadata": {},
   "outputs": [],
   "source": [
    "nyc_df['day'] = nyc_df['date'].dt.dayofyear"
   ]
  },
  {
   "cell_type": "code",
   "execution_count": 68,
   "metadata": {},
   "outputs": [],
   "source": [
    "# nyc_df['year'] = nyc_df['datetime'].dt.year\n",
    "#\"Object\" is a fancy Pandas word for \"uselessly broad classification of data type.\" Pandas sees the special characters in this column's data, thus immediately surrenders any attempt to logically parse said data. Let's fix this:\n"
   ]
  },
  {
   "cell_type": "code",
   "execution_count": null,
   "metadata": {},
   "outputs": [],
   "source": []
  },
  {
   "cell_type": "code",
   "execution_count": 31,
   "metadata": {},
   "outputs": [
    {
     "data": {
      "text/html": [
       "<div>\n",
       "<style scoped>\n",
       "    .dataframe tbody tr th:only-of-type {\n",
       "        vertical-align: middle;\n",
       "    }\n",
       "\n",
       "    .dataframe tbody tr th {\n",
       "        vertical-align: top;\n",
       "    }\n",
       "\n",
       "    .dataframe thead th {\n",
       "        text-align: right;\n",
       "    }\n",
       "</style>\n",
       "<table border=\"1\" class=\"dataframe\">\n",
       "  <thead>\n",
       "    <tr style=\"text-align: right;\">\n",
       "      <th></th>\n",
       "      <th>datetime</th>\n",
       "      <th>New York</th>\n",
       "      <th>temperature</th>\n",
       "      <th>date</th>\n",
       "      <th>year</th>\n",
       "      <th>day</th>\n",
       "    </tr>\n",
       "  </thead>\n",
       "  <tbody>\n",
       "    <tr>\n",
       "      <th>24</th>\n",
       "      <td>2012-10-02 12:00:00</td>\n",
       "      <td>289.991473</td>\n",
       "      <td>62.314651</td>\n",
       "      <td>2012-10-02 12:00:00</td>\n",
       "      <td>2012</td>\n",
       "      <td>276</td>\n",
       "    </tr>\n",
       "    <tr>\n",
       "      <th>48</th>\n",
       "      <td>2012-10-03 12:00:00</td>\n",
       "      <td>290.370000</td>\n",
       "      <td>62.996000</td>\n",
       "      <td>2012-10-03 12:00:00</td>\n",
       "      <td>2012</td>\n",
       "      <td>277</td>\n",
       "    </tr>\n",
       "    <tr>\n",
       "      <th>72</th>\n",
       "      <td>2012-10-04 12:00:00</td>\n",
       "      <td>290.840000</td>\n",
       "      <td>63.842000</td>\n",
       "      <td>2012-10-04 12:00:00</td>\n",
       "      <td>2012</td>\n",
       "      <td>278</td>\n",
       "    </tr>\n",
       "    <tr>\n",
       "      <th>96</th>\n",
       "      <td>2012-10-05 12:00:00</td>\n",
       "      <td>293.180000</td>\n",
       "      <td>68.054000</td>\n",
       "      <td>2012-10-05 12:00:00</td>\n",
       "      <td>2012</td>\n",
       "      <td>279</td>\n",
       "    </tr>\n",
       "    <tr>\n",
       "      <th>120</th>\n",
       "      <td>2012-10-06 12:00:00</td>\n",
       "      <td>288.240000</td>\n",
       "      <td>59.162000</td>\n",
       "      <td>2012-10-06 12:00:00</td>\n",
       "      <td>2012</td>\n",
       "      <td>280</td>\n",
       "    </tr>\n",
       "  </tbody>\n",
       "</table>\n",
       "</div>"
      ],
      "text/plain": [
       "                datetime    New York  temperature                date  year  \\\n",
       "24   2012-10-02 12:00:00  289.991473    62.314651 2012-10-02 12:00:00  2012   \n",
       "48   2012-10-03 12:00:00  290.370000    62.996000 2012-10-03 12:00:00  2012   \n",
       "72   2012-10-04 12:00:00  290.840000    63.842000 2012-10-04 12:00:00  2012   \n",
       "96   2012-10-05 12:00:00  293.180000    68.054000 2012-10-05 12:00:00  2012   \n",
       "120  2012-10-06 12:00:00  288.240000    59.162000 2012-10-06 12:00:00  2012   \n",
       "\n",
       "     day  \n",
       "24   276  \n",
       "48   277  \n",
       "72   278  \n",
       "96   279  \n",
       "120  280  "
      ]
     },
     "execution_count": 31,
     "metadata": {},
     "output_type": "execute_result"
    }
   ],
   "source": [
    "nyc_df.head()"
   ]
  },
  {
   "cell_type": "code",
   "execution_count": 69,
   "metadata": {},
   "outputs": [],
   "source": [
    "# nyc_df['day'] = nyc_df['date'].dt.dayofyear"
   ]
  },
  {
   "cell_type": "code",
   "execution_count": 32,
   "metadata": {},
   "outputs": [
    {
     "data": {
      "text/plain": [
       "Index(['datetime', 'New York', 'temperature', 'date', 'year', 'day'], dtype='object')"
      ]
     },
     "execution_count": 32,
     "metadata": {},
     "output_type": "execute_result"
    }
   ],
   "source": [
    "nyc_df.columns"
   ]
  },
  {
   "cell_type": "code",
   "execution_count": 33,
   "metadata": {},
   "outputs": [
    {
     "ename": "ValueError",
     "evalue": "Length mismatch: Expected axis has 6 elements, new values have 2 elements",
     "output_type": "error",
     "traceback": [
      "\u001b[1;31m---------------------------------------------------------------------------\u001b[0m",
      "\u001b[1;31mValueError\u001b[0m                                Traceback (most recent call last)",
      "\u001b[1;32m<ipython-input-33-d9abd4c42876>\u001b[0m in \u001b[0;36m<module>\u001b[1;34m\u001b[0m\n\u001b[1;32m----> 1\u001b[1;33m \u001b[0mnyc_df\u001b[0m\u001b[1;33m.\u001b[0m\u001b[0mcolumns\u001b[0m\u001b[1;33m=\u001b[0m\u001b[1;33m[\u001b[0m\u001b[1;34m'date'\u001b[0m\u001b[1;33m,\u001b[0m\u001b[1;34m'temperature'\u001b[0m\u001b[1;33m]\u001b[0m\u001b[1;33m\u001b[0m\u001b[1;33m\u001b[0m\u001b[0m\n\u001b[0m",
      "\u001b[1;32m~\\Anaconda3\\lib\\site-packages\\pandas\\core\\generic.py\u001b[0m in \u001b[0;36m__setattr__\u001b[1;34m(self, name, value)\u001b[0m\n\u001b[0;32m   5078\u001b[0m         \u001b[1;32mtry\u001b[0m\u001b[1;33m:\u001b[0m\u001b[1;33m\u001b[0m\u001b[1;33m\u001b[0m\u001b[0m\n\u001b[0;32m   5079\u001b[0m             \u001b[0mobject\u001b[0m\u001b[1;33m.\u001b[0m\u001b[0m__getattribute__\u001b[0m\u001b[1;33m(\u001b[0m\u001b[0mself\u001b[0m\u001b[1;33m,\u001b[0m \u001b[0mname\u001b[0m\u001b[1;33m)\u001b[0m\u001b[1;33m\u001b[0m\u001b[1;33m\u001b[0m\u001b[0m\n\u001b[1;32m-> 5080\u001b[1;33m             \u001b[1;32mreturn\u001b[0m \u001b[0mobject\u001b[0m\u001b[1;33m.\u001b[0m\u001b[0m__setattr__\u001b[0m\u001b[1;33m(\u001b[0m\u001b[0mself\u001b[0m\u001b[1;33m,\u001b[0m \u001b[0mname\u001b[0m\u001b[1;33m,\u001b[0m \u001b[0mvalue\u001b[0m\u001b[1;33m)\u001b[0m\u001b[1;33m\u001b[0m\u001b[1;33m\u001b[0m\u001b[0m\n\u001b[0m\u001b[0;32m   5081\u001b[0m         \u001b[1;32mexcept\u001b[0m \u001b[0mAttributeError\u001b[0m\u001b[1;33m:\u001b[0m\u001b[1;33m\u001b[0m\u001b[1;33m\u001b[0m\u001b[0m\n\u001b[0;32m   5082\u001b[0m             \u001b[1;32mpass\u001b[0m\u001b[1;33m\u001b[0m\u001b[1;33m\u001b[0m\u001b[0m\n",
      "\u001b[1;32mpandas/_libs/properties.pyx\u001b[0m in \u001b[0;36mpandas._libs.properties.AxisProperty.__set__\u001b[1;34m()\u001b[0m\n",
      "\u001b[1;32m~\\Anaconda3\\lib\\site-packages\\pandas\\core\\generic.py\u001b[0m in \u001b[0;36m_set_axis\u001b[1;34m(self, axis, labels)\u001b[0m\n\u001b[0;32m    636\u001b[0m \u001b[1;33m\u001b[0m\u001b[0m\n\u001b[0;32m    637\u001b[0m     \u001b[1;32mdef\u001b[0m \u001b[0m_set_axis\u001b[0m\u001b[1;33m(\u001b[0m\u001b[0mself\u001b[0m\u001b[1;33m,\u001b[0m \u001b[0maxis\u001b[0m\u001b[1;33m,\u001b[0m \u001b[0mlabels\u001b[0m\u001b[1;33m)\u001b[0m\u001b[1;33m:\u001b[0m\u001b[1;33m\u001b[0m\u001b[1;33m\u001b[0m\u001b[0m\n\u001b[1;32m--> 638\u001b[1;33m         \u001b[0mself\u001b[0m\u001b[1;33m.\u001b[0m\u001b[0m_data\u001b[0m\u001b[1;33m.\u001b[0m\u001b[0mset_axis\u001b[0m\u001b[1;33m(\u001b[0m\u001b[0maxis\u001b[0m\u001b[1;33m,\u001b[0m \u001b[0mlabels\u001b[0m\u001b[1;33m)\u001b[0m\u001b[1;33m\u001b[0m\u001b[1;33m\u001b[0m\u001b[0m\n\u001b[0m\u001b[0;32m    639\u001b[0m         \u001b[0mself\u001b[0m\u001b[1;33m.\u001b[0m\u001b[0m_clear_item_cache\u001b[0m\u001b[1;33m(\u001b[0m\u001b[1;33m)\u001b[0m\u001b[1;33m\u001b[0m\u001b[1;33m\u001b[0m\u001b[0m\n\u001b[0;32m    640\u001b[0m \u001b[1;33m\u001b[0m\u001b[0m\n",
      "\u001b[1;32m~\\Anaconda3\\lib\\site-packages\\pandas\\core\\internals\\managers.py\u001b[0m in \u001b[0;36mset_axis\u001b[1;34m(self, axis, new_labels)\u001b[0m\n\u001b[0;32m    153\u001b[0m             raise ValueError(\n\u001b[0;32m    154\u001b[0m                 \u001b[1;34m'Length mismatch: Expected axis has {old} elements, new '\u001b[0m\u001b[1;33m\u001b[0m\u001b[1;33m\u001b[0m\u001b[0m\n\u001b[1;32m--> 155\u001b[1;33m                 'values have {new} elements'.format(old=old_len, new=new_len))\n\u001b[0m\u001b[0;32m    156\u001b[0m \u001b[1;33m\u001b[0m\u001b[0m\n\u001b[0;32m    157\u001b[0m         \u001b[0mself\u001b[0m\u001b[1;33m.\u001b[0m\u001b[0maxes\u001b[0m\u001b[1;33m[\u001b[0m\u001b[0maxis\u001b[0m\u001b[1;33m]\u001b[0m \u001b[1;33m=\u001b[0m \u001b[0mnew_labels\u001b[0m\u001b[1;33m\u001b[0m\u001b[1;33m\u001b[0m\u001b[0m\n",
      "\u001b[1;31mValueError\u001b[0m: Length mismatch: Expected axis has 6 elements, new values have 2 elements"
     ]
    }
   ],
   "source": [
    "nyc_df.columns=['date','temperature']"
   ]
  },
  {
   "cell_type": "code",
   "execution_count": 102,
   "metadata": {},
   "outputs": [],
   "source": [
    "# nyc_df.reset_index(inplace=True)"
   ]
  },
  {
   "cell_type": "code",
   "execution_count": 35,
   "metadata": {},
   "outputs": [],
   "source": [
    "import pandas as pd\n",
    "import seaborn as sns\n",
    "from matplotlib import pyplot as plt\n",
    "%matplotlib inline"
   ]
  },
  {
   "cell_type": "code",
   "execution_count": 36,
   "metadata": {},
   "outputs": [
    {
     "data": {
      "text/plain": [
       "<Figure size 5760x3600 with 0 Axes>"
      ]
     },
     "metadata": {},
     "output_type": "display_data"
    }
   ],
   "source": [
    "%matplotlib inline\n",
    "plt.figure(figsize=(80, 50))\n",
    "plt.show()"
   ]
  },
  {
   "cell_type": "code",
   "execution_count": 37,
   "metadata": {},
   "outputs": [
    {
     "data": {
      "image/png": "[encoded data removed]",
      "text/plain": [
       "<Figure size 720x72 with 1 Axes>"
      ]
     },
     "metadata": {
      "needs_background": "light"
     },
     "output_type": "display_data"
    }
   ],
   "source": [
    "sns.palplot(sns.color_palette(\"husl\", 10))\n",
    "plt.show()"
   ]
  },
  {
   "cell_type": "code",
   "execution_count": 40,
   "metadata": {},
   "outputs": [
    {
     "data": {
      "image/png": "[encoded data removed]",
      "text/plain": [
       "<Figure size 432x288 with 1 Axes>"
      ]
     },
     "metadata": {
      "needs_background": "light"
     },
     "output_type": "display_data"
    }
   ],
   "source": [
    "\n",
    "plt.title('NYC Weather Over Time')\n",
    "# plt.figure(figsize=(19, 10))\n",
    "nyc_chart = sns.lineplot(x=\"day\",\n",
    "                         y=\"temperature\",\n",
    "                         hue='year',\n",
    "                         data=nyc_df\n",
    "                         ).set_title('NYC Weather Over Time')\n",
    "plt.show()"
   ]
  },
  {
   "cell_type": "code",
   "execution_count": null,
   "metadata": {},
   "outputs": [],
   "source": []
  },
  {
   "cell_type": "code",
   "execution_count": null,
   "metadata": {},
   "outputs": [],
   "source": []
  },
  {
   "cell_type": "code",
   "execution_count": null,
   "metadata": {},
   "outputs": [],
   "source": []
  },
  {
   "cell_type": "code",
   "execution_count": null,
   "metadata": {},
   "outputs": [],
   "source": []
  },
  {
   "cell_type": "code",
   "execution_count": null,
   "metadata": {},
   "outputs": [],
   "source": []
  }
 ],
 "metadata": {
  "kernelspec": {
   "display_name": "Python 3",
   "language": "python",
   "name": "python3"
  },
  "language_info": {
   "codemirror_mode": {
    "name": "ipython",
    "version": 3
   },
   "file_extension": ".py",
   "mimetype": "text/x-python",
   "name": "python",
   "nbconvert_exporter": "python",
   "pygments_lexer": "ipython3",
   "version": "3.7.3"
  }
 },
 "nbformat": 4,
 "nbformat_minor": 2
}
